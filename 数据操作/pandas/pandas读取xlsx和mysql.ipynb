{
 "cells": [
  {
   "cell_type": "markdown",
   "metadata": {},
   "source": [
    "# 读取xlsx文件"
   ]
  },
  {
   "cell_type": "code",
   "execution_count": 1,
   "metadata": {},
   "outputs": [],
   "source": [
    "import pandas as pd"
   ]
  },
  {
   "cell_type": "code",
   "execution_count": 11,
   "metadata": {},
   "outputs": [
    {
     "data": {
      "text/html": [
       "<div>\n",
       "<style scoped>\n",
       "    .dataframe tbody tr th:only-of-type {\n",
       "        vertical-align: middle;\n",
       "    }\n",
       "\n",
       "    .dataframe tbody tr th {\n",
       "        vertical-align: top;\n",
       "    }\n",
       "\n",
       "    .dataframe thead th {\n",
       "        text-align: right;\n",
       "    }\n",
       "</style>\n",
       "<table border=\"1\" class=\"dataframe\">\n",
       "  <thead>\n",
       "    <tr style=\"text-align: right;\">\n",
       "      <th></th>\n",
       "      <th>id</th>\n",
       "      <th>ip</th>\n",
       "      <th>day</th>\n",
       "      <th>time</th>\n",
       "      <th>domain</th>\n",
       "      <th>method</th>\n",
       "      <th>uri</th>\n",
       "      <th>http</th>\n",
       "      <th>status</th>\n",
       "      <th>datasize</th>\n",
       "      <th>referer</th>\n",
       "      <th>useragent</th>\n",
       "      <th>cdnip</th>\n",
       "      <th>md5str</th>\n",
       "    </tr>\n",
       "  </thead>\n",
       "  <tbody>\n",
       "    <tr>\n",
       "      <th>0</th>\n",
       "      <td>16658712</td>\n",
       "      <td>123.125.71.34</td>\n",
       "      <td>01/Jun/2018</td>\n",
       "      <td>01:50:11</td>\n",
       "      <td>m.3618med.com</td>\n",
       "      <td>GET</td>\n",
       "      <td>/seo/shqy/</td>\n",
       "      <td>HTTP/1.1</td>\n",
       "      <td>404</td>\n",
       "      <td>3517</td>\n",
       "      <td>-</td>\n",
       "      <td>Mozilla/5.0 (Linux;u;Android 4.2.2;zh-cn;) App...</td>\n",
       "      <td>-</td>\n",
       "      <td>37ccfb8930d7fcd38e149be0eeb17ff9</td>\n",
       "    </tr>\n",
       "    <tr>\n",
       "      <th>1</th>\n",
       "      <td>16659100</td>\n",
       "      <td>123.125.71.87</td>\n",
       "      <td>01/Jun/2018</td>\n",
       "      <td>02:15:30</td>\n",
       "      <td>yingte.m.3618med.com</td>\n",
       "      <td>GET</td>\n",
       "      <td>/sub/company-news/tel:18155223051</td>\n",
       "      <td>HTTP/1.1</td>\n",
       "      <td>404</td>\n",
       "      <td>3517</td>\n",
       "      <td>-</td>\n",
       "      <td>Mozilla/5.0 (compatible; Baiduspider/2.0; +htt...</td>\n",
       "      <td>-</td>\n",
       "      <td>093b0ebacbdfc36b43a909ce5c7335aa</td>\n",
       "    </tr>\n",
       "  </tbody>\n",
       "</table>\n",
       "</div>"
      ],
      "text/plain": [
       "         id             ip          day      time                domain  \\\n",
       "0  16658712  123.125.71.34  01/Jun/2018  01:50:11         m.3618med.com   \n",
       "1  16659100  123.125.71.87  01/Jun/2018  02:15:30  yingte.m.3618med.com   \n",
       "\n",
       "  method                                uri      http  status  datasize  \\\n",
       "0    GET                         /seo/shqy/  HTTP/1.1     404      3517   \n",
       "1    GET  /sub/company-news/tel:18155223051  HTTP/1.1     404      3517   \n",
       "\n",
       "  referer                                          useragent cdnip  \\\n",
       "0       -  Mozilla/5.0 (Linux;u;Android 4.2.2;zh-cn;) App...     -   \n",
       "1       -  Mozilla/5.0 (compatible; Baiduspider/2.0; +htt...     -   \n",
       "\n",
       "                             md5str  \n",
       "0  37ccfb8930d7fcd38e149be0eeb17ff9  \n",
       "1  093b0ebacbdfc36b43a909ce5c7335aa  "
      ]
     },
     "execution_count": 11,
     "metadata": {},
     "output_type": "execute_result"
    }
   ],
   "source": [
    "data=pd.read_excel(\"404.xlsx\",0)\n",
    "data.head(2)"
   ]
  },
  {
   "cell_type": "markdown",
   "metadata": {},
   "source": [
    "# 读取mysql"
   ]
  },
  {
   "cell_type": "code",
   "execution_count": 18,
   "metadata": {},
   "outputs": [],
   "source": [
    "import pymysql"
   ]
  },
  {
   "cell_type": "code",
   "execution_count": 24,
   "metadata": {},
   "outputs": [],
   "source": [
    "cn=pymysql.connect(host=\"localhost\",user=\"root\",password=\"root\",database=\"3618med\",charset=\"utf8\")"
   ]
  },
  {
   "cell_type": "code",
   "execution_count": 25,
   "metadata": {},
   "outputs": [],
   "source": [
    "data=pd.read_sql(\"select * from logtable_1_to_6 limit 10\",con=cn)"
   ]
  },
  {
   "cell_type": "code",
   "execution_count": 26,
   "metadata": {},
   "outputs": [
    {
     "data": {
      "text/html": [
       "<div>\n",
       "<style scoped>\n",
       "    .dataframe tbody tr th:only-of-type {\n",
       "        vertical-align: middle;\n",
       "    }\n",
       "\n",
       "    .dataframe tbody tr th {\n",
       "        vertical-align: top;\n",
       "    }\n",
       "\n",
       "    .dataframe thead th {\n",
       "        text-align: right;\n",
       "    }\n",
       "</style>\n",
       "<table border=\"1\" class=\"dataframe\">\n",
       "  <thead>\n",
       "    <tr style=\"text-align: right;\">\n",
       "      <th></th>\n",
       "      <th>id</th>\n",
       "      <th>ip</th>\n",
       "      <th>day</th>\n",
       "      <th>time</th>\n",
       "      <th>domain</th>\n",
       "      <th>method</th>\n",
       "      <th>uri</th>\n",
       "      <th>http</th>\n",
       "      <th>status</th>\n",
       "      <th>datasize</th>\n",
       "      <th>referer</th>\n",
       "      <th>useragent</th>\n",
       "      <th>cdnip</th>\n",
       "      <th>md5str</th>\n",
       "    </tr>\n",
       "  </thead>\n",
       "  <tbody>\n",
       "    <tr>\n",
       "      <th>0</th>\n",
       "      <td>13111475</td>\n",
       "      <td>119.167.248.2</td>\n",
       "      <td>21/Apr/2018</td>\n",
       "      <td>22:53:01</td>\n",
       "      <td></td>\n",
       "      <td>GET</td>\n",
       "      <td>/product/zhaoshang-1303663.html</td>\n",
       "      <td>HTTP/1.1</td>\n",
       "      <td>200</td>\n",
       "      <td>26468</td>\n",
       "      <td>-</td>\n",
       "      <td>web spider/4.0(+http://www.sogou.com/docs/help...</td>\n",
       "      <td>123.126.113.132</td>\n",
       "      <td>0ea45416769215f26da0c2c606cb19eb</td>\n",
       "    </tr>\n",
       "    <tr>\n",
       "      <th>1</th>\n",
       "      <td>13111476</td>\n",
       "      <td>220.181.125.67</td>\n",
       "      <td>21/Apr/2018</td>\n",
       "      <td>22:53:02</td>\n",
       "      <td></td>\n",
       "      <td>GET</td>\n",
       "      <td>/bid/zhaobiao-1385157.html</td>\n",
       "      <td>HTTP/1.1</td>\n",
       "      <td>200</td>\n",
       "      <td>17931</td>\n",
       "      <td>-</td>\n",
       "      <td>web spider/4.0(+http://www.sogou.com/docs/help...</td>\n",
       "      <td>-</td>\n",
       "      <td>c37b94c7032ac794c951df7c9f7019c7</td>\n",
       "    </tr>\n",
       "    <tr>\n",
       "      <th>2</th>\n",
       "      <td>13111474</td>\n",
       "      <td>119.167.248.30</td>\n",
       "      <td>21/Apr/2018</td>\n",
       "      <td>22:53:01</td>\n",
       "      <td></td>\n",
       "      <td>GET</td>\n",
       "      <td>/zh-cn/products002.html?proTypeID=70451&amp;proTyp...</td>\n",
       "      <td>HTTP/1.1</td>\n",
       "      <td>404</td>\n",
       "      <td>11925</td>\n",
       "      <td>-</td>\n",
       "      <td>web spider/4.0(+http://www.sogou.com/docs/help...</td>\n",
       "      <td>123.126.113.90</td>\n",
       "      <td>0584a538269edabdfc104f5d898be8e4</td>\n",
       "    </tr>\n",
       "    <tr>\n",
       "      <th>3</th>\n",
       "      <td>13111473</td>\n",
       "      <td>119.167.248.31</td>\n",
       "      <td>21/Apr/2018</td>\n",
       "      <td>22:53:01</td>\n",
       "      <td></td>\n",
       "      <td>GET</td>\n",
       "      <td>/bid/zhaobiao-1309780.html</td>\n",
       "      <td>HTTP/1.1</td>\n",
       "      <td>200</td>\n",
       "      <td>17255</td>\n",
       "      <td>-</td>\n",
       "      <td>web spider/4.0(+http://www.sogou.com/docs/help...</td>\n",
       "      <td>106.38.241.174</td>\n",
       "      <td>dda24ab33e0bfe31c8d83ee2f41bb0a3</td>\n",
       "    </tr>\n",
       "    <tr>\n",
       "      <th>4</th>\n",
       "      <td>13111472</td>\n",
       "      <td>220.181.125.96</td>\n",
       "      <td>21/Apr/2018</td>\n",
       "      <td>22:53:01</td>\n",
       "      <td></td>\n",
       "      <td>GET</td>\n",
       "      <td>/product/zhaoshang-1378457.html</td>\n",
       "      <td>HTTP/1.1</td>\n",
       "      <td>200</td>\n",
       "      <td>28731</td>\n",
       "      <td>-</td>\n",
       "      <td>web spider/4.0(+http://www.sogou.com/docs/help...</td>\n",
       "      <td>-</td>\n",
       "      <td>e0f8350fa9ba3e4fa564d4969888e6ef</td>\n",
       "    </tr>\n",
       "  </tbody>\n",
       "</table>\n",
       "</div>"
      ],
      "text/plain": [
       "         id              ip          day      time domain method  \\\n",
       "0  13111475   119.167.248.2  21/Apr/2018  22:53:01           GET   \n",
       "1  13111476  220.181.125.67  21/Apr/2018  22:53:02           GET   \n",
       "2  13111474  119.167.248.30  21/Apr/2018  22:53:01           GET   \n",
       "3  13111473  119.167.248.31  21/Apr/2018  22:53:01           GET   \n",
       "4  13111472  220.181.125.96  21/Apr/2018  22:53:01           GET   \n",
       "\n",
       "                                                 uri      http  status  \\\n",
       "0                    /product/zhaoshang-1303663.html  HTTP/1.1     200   \n",
       "1                         /bid/zhaobiao-1385157.html  HTTP/1.1     200   \n",
       "2  /zh-cn/products002.html?proTypeID=70451&proTyp...  HTTP/1.1     404   \n",
       "3                         /bid/zhaobiao-1309780.html  HTTP/1.1     200   \n",
       "4                    /product/zhaoshang-1378457.html  HTTP/1.1     200   \n",
       "\n",
       "   datasize referer                                          useragent  \\\n",
       "0     26468       -  web spider/4.0(+http://www.sogou.com/docs/help...   \n",
       "1     17931       -  web spider/4.0(+http://www.sogou.com/docs/help...   \n",
       "2     11925       -  web spider/4.0(+http://www.sogou.com/docs/help...   \n",
       "3     17255       -  web spider/4.0(+http://www.sogou.com/docs/help...   \n",
       "4     28731       -  web spider/4.0(+http://www.sogou.com/docs/help...   \n",
       "\n",
       "             cdnip                            md5str  \n",
       "0  123.126.113.132  0ea45416769215f26da0c2c606cb19eb  \n",
       "1                -  c37b94c7032ac794c951df7c9f7019c7  \n",
       "2   123.126.113.90  0584a538269edabdfc104f5d898be8e4  \n",
       "3   106.38.241.174  dda24ab33e0bfe31c8d83ee2f41bb0a3  \n",
       "4                -  e0f8350fa9ba3e4fa564d4969888e6ef  "
      ]
     },
     "execution_count": 26,
     "metadata": {},
     "output_type": "execute_result"
    }
   ],
   "source": [
    "data.head()"
   ]
  },
  {
   "cell_type": "code",
   "execution_count": 22,
   "metadata": {},
   "outputs": [
    {
     "name": "stdout",
     "output_type": "stream",
     "text": [
      "Help on function __init__ in module pymysql.connections:\n",
      "\n",
      "__init__(self, host=None, user=None, password='', database=None, port=0, unix_socket=None, charset='', sql_mode=None, read_default_file=None, conv=None, use_unicode=None, client_flag=0, cursorclass=<class 'pymysql.cursors.Cursor'>, init_command=None, connect_timeout=10, ssl=None, read_default_group=None, compress=None, named_pipe=None, no_delay=None, autocommit=False, db=None, passwd=None, local_infile=False, max_allowed_packet=16777216, defer_connect=False, auth_plugin_map={}, read_timeout=None, write_timeout=None, bind_address=None, binary_prefix=False)\n",
      "    Initialize self.  See help(type(self)) for accurate signature.\n",
      "\n"
     ]
    }
   ],
   "source": [
    "help(pymysql.connections.Connection.__init__)"
   ]
  }
 ],
 "metadata": {
  "kernelspec": {
   "display_name": "Python 3",
   "language": "python",
   "name": "python3"
  },
  "language_info": {
   "codemirror_mode": {
    "name": "ipython",
    "version": 3
   },
   "file_extension": ".py",
   "mimetype": "text/x-python",
   "name": "python",
   "nbconvert_exporter": "python",
   "pygments_lexer": "ipython3",
   "version": "3.6.3"
  }
 },
 "nbformat": 4,
 "nbformat_minor": 2
}
