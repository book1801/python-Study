{
 "cells": [
  {
   "cell_type": "code",
   "execution_count": 1,
   "metadata": {},
   "outputs": [],
   "source": [
    "from spiderSearch import SpiderSearch"
   ]
  },
  {
   "cell_type": "code",
   "execution_count": 2,
   "metadata": {},
   "outputs": [
    {
     "data": {
      "text/plain": [
       "{'一类医疗器械',\n",
       " '中国医疗器械交易网',\n",
       " '二类医疗器械',\n",
       " '二级医疗器械许可证',\n",
       " '医疗器戒',\n",
       " '医疗器材批发市场',\n",
       " '医疗器材网',\n",
       " '医疗器械代理',\n",
       " '医疗器械公司',\n",
       " '医疗器械分类目录',\n",
       " '医疗器械厂家',\n",
       " '医疗器械培训',\n",
       " '医疗器械展会',\n",
       " '医疗器械招商',\n",
       " '医疗器械注册',\n",
       " '医疗器械管理软件',\n",
       " '医疗器械网上商城',\n",
       " '医疗器械网上批发商城',\n",
       " '医疗器械网购商城',\n",
       " '医疗器械行业',\n",
       " '医疗器械许可证',\n",
       " '医疗器械论坛',\n",
       " '医疗器械设计',\n",
       " '医疗器械销售'}"
      ]
     },
     "execution_count": 2,
     "metadata": {},
     "output_type": "execute_result"
    }
   ],
   "source": [
    "s=SpiderSearch(\"医疗器械\")\n",
    "baiduAboutKeyword=s.spiderBaidu()\n",
    "haosoAboutKeyword=s.spiderHaoso()\n",
    "sogouAboutKeyword=s.spiderSogou()\n",
    "\n",
    "aboutkeyword=set()\n",
    "#for word in baiduAboutKeyword:\n",
    "#    aboutkeyword.add(word)\n",
    "for word in haosoAboutKeyword:\n",
    "    aboutkeyword.add(word)\n",
    "for word in sogouAboutKeyword:\n",
    "    aboutkeyword.add(word)\n",
    "aboutkeyword    "
   ]
  },
  {
   "cell_type": "code",
   "execution_count": 9,
   "metadata": {},
   "outputs": [],
   "source": [
    "s=set()"
   ]
  },
  {
   "cell_type": "code",
   "execution_count": null,
   "metadata": {},
   "outputs": [],
   "source": []
  }
 ],
 "metadata": {
  "kernelspec": {
   "display_name": "Python 3",
   "language": "python",
   "name": "python3"
  },
  "language_info": {
   "codemirror_mode": {
    "name": "ipython",
    "version": 3
   },
   "file_extension": ".py",
   "mimetype": "text/x-python",
   "name": "python",
   "nbconvert_exporter": "python",
   "pygments_lexer": "ipython3",
   "version": "3.6.3"
  }
 },
 "nbformat": 4,
 "nbformat_minor": 2
}
